{
 "cells": [
  {
   "cell_type": "markdown",
   "metadata": {
    "id": "qk1hf3A6Wnkt"
   },
   "source": [
    "#Exercício em Python - Tema 4 - Balanço Hídrico"
   ]
  },
  {
   "cell_type": "markdown",
   "metadata": {
    "id": "LV_KlerBWmHr"
   },
   "source": [
    "O Brasil é um país com dimensões continentais, e apresenta grande diversidade de biomas e climas. Por essas características, é observado grandes variações nos regimes chuvosos, temperaturas e formação do solo  nas regiões do território nacional.   Portanto, pensando nessas características citadas, realize o balanço hídrico nas 5 bacias hidrográficas que estão descritas na tabela 01 e discorra sobre os efeitos da localização geográfica e do uso e ocupação na disponibilidade hídrica.\n",
    "\n",
    "![image.png](data:image/png;base64,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)"
   ]
  },
  {
   "cell_type": "markdown",
   "metadata": {
    "id": "nrXP2YOkXOMH"
   },
   "source": [
    "##1. Importar bibliotecas"
   ]
  },
  {
   "cell_type": "code",
   "execution_count": 1,
   "metadata": {
    "executionInfo": {
     "elapsed": 2708,
     "status": "ok",
     "timestamp": 1754231489156,
     "user": {
      "displayName": "Bruno Ken Marchezepe",
      "userId": "17691679910735207952"
     },
     "user_tz": 180
    },
    "id": "jvFA-pS_XTM6"
   },
   "outputs": [],
   "source": [
    "import pandas as pd\n",
    "import numpy as np\n",
    "import matplotlib.pyplot as plt\n",
    "import plotly.express as px\n",
    "import requests, io"
   ]
  },
  {
   "cell_type": "markdown",
   "metadata": {
    "id": "xK2gRfbzXUXz"
   },
   "source": [
    "##2. Importar dados CABra"
   ]
  },
  {
   "cell_type": "code",
   "execution_count": 2,
   "metadata": {
    "executionInfo": {
     "elapsed": 4,
     "status": "ok",
     "timestamp": 1754231489176,
     "user": {
      "displayName": "Bruno Ken Marchezepe",
      "userId": "17691679910735207952"
     },
     "user_tz": 180
    },
    "id": "hMTAU54kak9t"
   },
   "outputs": [],
   "source": [
    "# Bacias escolhidas representando diferentes biomas/regionais hidrográficas\n",
    "bacias = ['39', '52', '138', '285', '496']\n",
    "nomes_bacias = {\n",
    "    '39': 'Cachoeirao',\n",
    "    '52': 'Sao Francisco',\n",
    "    '138': 'Peixe Gordo',\n",
    "    '285': 'Tumiritinga',\n",
    "    '496': 'Novo Porto Taquara'\n",
    "}\n",
    "\n",
    "variaveis = {\n",
    "    'tmin': 'Temperatura Mínima (C)',\n",
    "    'tmax': 'Temperatura Máxima (C)',\n",
    "    'p': 'Precipitação (mm)',\n",
    "    'pet_pm': 'Evapotranspiração Potencial (mm)'\n",
    "}\n",
    "\n",
    "# Dicionário para armazenar os DataFrames por bacia\n",
    "dfs = {}"
   ]
  },
  {
   "cell_type": "code",
   "execution_count": null,
   "metadata": {
    "executionInfo": {
     "elapsed": 1348,
     "status": "ok",
     "timestamp": 1754235289640,
     "user": {
      "displayName": "Bruno Ken Marchezepe",
      "userId": "17691679910735207952"
     },
     "user_tz": 180
    },
    "id": "bpJQ5OI9bCeY"
   },
   "outputs": [],
   "source": [
    "# Etapa 1: Importação e agregação anual sem função\n",
    "i = 0\n",
    "for b in bacias:\n",
    "    url = f\"https://raw.githubusercontent.com/hydrologywatersecurity/livro-python-hidrologia/refs/heads/main/CABRA_dataset/CABra_climate_daily_series/ens/CABra_{b}_climate_ENS.txt\"\n",
    "    r = requests.get(url).content\n",
    "    df = pd.read_csv(io.StringIO(r.decode('utf-8', errors='ignore')), skiprows=13, delimiter='\\t')\n",
    "    df.columns = ['Year', 'Month', 'Day', 'p', 'tmin', 'tmax', 'rh', 'wnd', 'srad', 'et', 'pet_pm','pet_pt', 'pet_hg']\n",
    "    #Exclui linha 0 pois não faz parte dos dados\n",
    "    df = df.drop([0], axis=0)\n",
    "    #Passando todos os dados para categoria numérica\n",
    "    df = df.apply(pd.to_numeric)\n",
    "    #Definir coluna de data\n",
    "    df['date'] = pd.to_datetime(df[['Year', 'Month', 'Day']])\n",
    "    df['year'] = df['date'].dt.year\n",
    "    df['month'] = df['date'].dt.month\n",
    "    #Calculando a media e soma dos valores ao longo dos anos\n",
    "    df_mes = df.groupby(['year', 'month']).agg({\n",
    "        'tmin': 'mean',\n",
    "        'tmax': 'mean',\n",
    "        'p': 'sum',\n",
    "        'pet_pm': 'sum',\n",
    "        'et': 'sum'\n",
    "    }).reset_index()\n",
    "    #Calculando a media mensal climatica das bacias\n",
    "    df_mes = df_mes.groupby('month')[['tmin', 'tmax', 'p', 'pet_pm', 'et']].mean().reset_index()\n",
    "    dfs[b] = df_mes\n",
    "    i += 1\n",
    "\n",
    "#Meses do ano\n",
    "meses = ['Jan','Fev','Mar','Abr','Mai','Jun','Jul','Ago','Set','Out','Nov','Dez']"
   ]
  },
  {
   "cell_type": "code",
   "execution_count": 96,
   "metadata": {
    "executionInfo": {
     "elapsed": 15,
     "status": "ok",
     "timestamp": 1754238282550,
     "user": {
      "displayName": "Bruno Ken Marchezepe",
      "userId": "17691679910735207952"
     },
     "user_tz": 180
    },
    "id": "mkf-cBzlv1n7"
   },
   "outputs": [],
   "source": [
    "#Escolhendo uma das bacias para o cálculo\n",
    "bacia = '39'"
   ]
  },
  {
   "cell_type": "markdown",
   "metadata": {
    "id": "gWclPCw2XcfX"
   },
   "source": [
    "##3. Gráfico de barras de precipitação nos meses do ano"
   ]
  },
  {
   "cell_type": "code",
   "execution_count": 97,
   "metadata": {
    "colab": {
     "base_uri": "https://localhost:8080/",
     "height": 455
    },
    "executionInfo": {
     "elapsed": 182,
     "status": "ok",
     "timestamp": 1754238284539,
     "user": {
      "displayName": "Bruno Ken Marchezepe",
      "userId": "17691679910735207952"
     },
     "user_tz": 180
    },
    "id": "cqyuVbiCXhQE",
    "outputId": "22a8cfb8-2948-49ed-e20c-e54e77326a70"
   },
   "outputs": [
    {
     "data": {
      "image/png": "[encoded data removed]",
      "text/plain": [
       "<Figure size 640x480 with 1 Axes>"
      ]
     },
     "metadata": {},
     "output_type": "display_data"
    }
   ],
   "source": [
    "#Plotagem\n",
    "plt.bar(meses, dfs[bacia]['p'], color=\"blue\")\n",
    "plt.ylim([0.0, 400])\n",
    "plt.xlabel('Meses')\n",
    "plt.ylabel('Precipitação (mm)')\n",
    "plt.show()"
   ]
  },
  {
   "cell_type": "markdown",
   "metadata": {
    "id": "UK3n7WiHXmwY"
   },
   "source": [
    "##4. Evapotranspiração"
   ]
  },
  {
   "cell_type": "markdown",
   "metadata": {
    "id": "RijJFn9GjrWe"
   },
   "source": [
    "O cálculo da Evapotranspiração divide-se em 2 tipos: Evapotranspiração Potencial (ETP ou ET0), que seria a perda da água por evaporação e transpiração caso não houvessem limites de água no ambiente; e Evapotranspiração Real (ET), que é a que de fato ocorre nas condições ambientais vigentes no local. A ETP nunca será menor que a ET. Vamos ver em nossos exemplos a comparação das médias mensais das duas."
   ]
  },
  {
   "cell_type": "code",
   "execution_count": 50,
   "metadata": {
    "colab": {
     "base_uri": "https://localhost:8080/",
     "height": 642
    },
    "executionInfo": {
     "elapsed": 585,
     "status": "ok",
     "timestamp": 1754235671599,
     "user": {
      "displayName": "Bruno Ken Marchezepe",
      "userId": "17691679910735207952"
     },
     "user_tz": 180
    },
    "id": "-jdLjXdxXq62",
    "outputId": "aa752c35-4a61-4349-8af8-320a739de15e"
   },
   "outputs": [
    {
     "data": {
      "image/png": "[encoded data removed]",
      "text/plain": [
       "<Figure size 1200x700 with 1 Axes>"
      ]
     },
     "metadata": {},
     "output_type": "display_data"
    }
   ],
   "source": [
    "#Plotagem\n",
    "bar_width = 0.35\n",
    "r1 = np.arange(len(meses))\n",
    "r2 = [x + bar_width for x in r1]\n",
    "\n",
    "plt.figure(figsize=(12, 7))\n",
    "plt.bar(r1, dfs[bacia]['pet_pm'], color='red', width=bar_width, edgecolor='grey', label='Evapotranspiração Potencial')\n",
    "plt.bar(r2, dfs[bacia]['et'], color='blue', width=bar_width, edgecolor='grey', label='Evapotranspiração Real')\n",
    "\n",
    "plt.xlabel('Meses')\n",
    "plt.ylabel('Evapotranspiração (mm)')\n",
    "plt.xticks([r + bar_width/2 for r in range(len(meses))], meses)\n",
    "plt.ylim([0.0, 250])\n",
    "plt.xlabel('Meses')\n",
    "plt.ylabel('Evapotranspiração (mm)')\n",
    "plt.title(f\"Média Mensal de ETP e ET para Bacia {nomes_bacias[bacia]}\")\n",
    "plt.legend()\n",
    "plt.show()"
   ]
  },
  {
   "cell_type": "markdown",
   "metadata": {
    "id": "HGefwSahXu_b"
   },
   "source": [
    "##5. Índice de Aridez"
   ]
  },
  {
   "cell_type": "code",
   "execution_count": 36,
   "metadata": {
    "colab": {
     "base_uri": "https://localhost:8080/"
    },
    "executionInfo": {
     "elapsed": 8,
     "status": "ok",
     "timestamp": 1754233538415,
     "user": {
      "displayName": "Bruno Ken Marchezepe",
      "userId": "17691679910735207952"
     },
     "user_tz": 180
    },
    "id": "EEgZkY8hXwxB",
    "outputId": "d124ad0e-31df-4c7c-b682-0d390dde6f73"
   },
   "outputs": [
    {
     "name": "stdout",
     "output_type": "stream",
     "text": [
      "O Índice de Aridez é:  0.9643425862456141\n"
     ]
    }
   ],
   "source": [
    "#média da precipitacao\n",
    "media_prec= np.mean(dfs[bacia]['p'])\n",
    "#média de Evapotranspiração potencial (mm)  por Penman-Monteith\n",
    "media_Evap= np.mean(dfs[bacia]['pet_pm'])\n",
    "#calculo Indice de aridez\n",
    "IA = media_prec/media_Evap\n",
    "\n",
    "print (\"O Índice de Aridez é: \",IA)"
   ]
  },
  {
   "cell_type": "markdown",
   "metadata": {
    "id": "B-nqTzcbX0QL"
   },
   "source": [
    "##6. Escoamento Superficial"
   ]
  },
  {
   "cell_type": "code",
   "execution_count": null,
   "metadata": {
    "colab": {
     "base_uri": "https://localhost:8080/"
    },
    "executionInfo": {
     "elapsed": 355,
     "status": "ok",
     "timestamp": 1754233741907,
     "user": {
      "displayName": "Bruno Ken Marchezepe",
      "userId": "17691679910735207952"
     },
     "user_tz": 180
    },
    "id": "2aUtwdfrKxe_",
    "outputId": "a54563e0-be57-4022-b5a0-eece41558708"
   },
   "outputs": [
    {
     "name": "stdout",
     "output_type": "stream",
     "text": [
      "O tipo de solo da sua bacia é: D\n"
     ]
    }
   ],
   "source": [
    "# Etapa 1: Importação da base de dados\n",
    "url = \"https://raw.githubusercontent.com/hydrologywatersecurity/livro-python-hidrologia/refs/heads/main/CABRA_dataset/CABra_attributes/CABra_soil_attributes.txt\"\n",
    "r = requests.get(url).content\n",
    "df = pd.read_csv(io.StringIO(r.decode('utf-8', errors='ignore')), skiprows=9, delimiter='\\t')\n",
    "\n",
    "df.columns = ['CABra ID','ANA ID','soil_type','soil_textclass','soil_sand','soil_silt','soil_clay',\n",
    "              'soil_carbon','soil_bulk','soil_depth']\n",
    "\n",
    "# Etapa 2: Classificação por argila (soil_clay)\n",
    "cond_clay = [\n",
    "    df['soil_clay'] > 40,\n",
    "    df['soil_clay'].between(20, 40),\n",
    "    df['soil_clay'].between(10, 20),\n",
    "    df['soil_clay'] <= 10\n",
    "]\n",
    "grupo_clay = ['D', 'C', 'B', 'A']\n",
    "df['soil_group_clay'] = np.select(cond_clay, grupo_clay, default='Unknown')\n",
    "\n",
    "# Etapa 3: Classificação por areia (soil_sand)\n",
    "cond_sand = [\n",
    "    df['soil_sand'] >= 90,\n",
    "    df['soil_sand'].between(50, 89.999),\n",
    "    (df['soil_sand'] < 50) & (df['soil_group_clay'] == 'C'),\n",
    "    (df['soil_sand'] < 50) & (df['soil_group_clay'] == 'D')\n",
    "]\n",
    "grupo_sand = ['A', 'B', 'C', 'D']\n",
    "df['soil_group_sand'] = np.select(cond_sand, grupo_sand, default='Unknown')\n",
    "\n",
    "# Etapa 4: Classificação por classe textural (soil_textclass)\n",
    "textclass_map = {\n",
    "    'SANDY CLAY': 'B',\n",
    "    'SANDY LOAM': 'B',\n",
    "    'CLAY LOAM': 'C',\n",
    "    'LOAM': 'C',\n",
    "    'SANDY CLAY LOAM': 'C',\n",
    "    'CLAY': 'D'\n",
    "}\n",
    "df['soil_group_textclass'] = df['soil_textclass'].str.strip().map(textclass_map).fillna('D')\n",
    "\n",
    "# Etapa 5: Grupo final (prioriza consenso, senão usa textclass)\n",
    "def definir_grupo_final(row):\n",
    "    grupos = [row['soil_group_clay'], row['soil_group_sand'], row['soil_group_textclass']]\n",
    "    if grupos.count(grupos[0]) >= 2:\n",
    "        return grupos[0]\n",
    "    elif grupos.count(grupos[1]) >= 2:\n",
    "        return grupos[1]\n",
    "    else:\n",
    "        return grupos[2]\n",
    "\n",
    "df['soil_group_final'] = df.apply(definir_grupo_final, axis=1)\n",
    "\n",
    "# Etapa 6: Mostrar solo da bacia específica\n",
    "id_bacia = 39  # example, using the first basin from your list 'bacias'\n",
    "grupo = df.loc[df['CABra ID'] == id_bacia, 'soil_group_final']\n",
    "if not grupo.empty:\n",
    "    print(f\"O tipo de solo da sua bacia é: {grupo.values[0]}\")\n",
    "else:\n",
    "    print(\"ID de bacia não encontrado.\")"
   ]
  },
  {
   "cell_type": "markdown",
   "metadata": {
    "id": "4t3CkRbAYBGY"
   },
   "source": [
    "Além disso, precisamos definir o uso e ocupação do solo. A data de base CABra definir para cada bacia 11 tipos diferentes de uso e ocupação, entretanto, para utilizar as tabelas por exemplo de Collischonn e Dornelles (2015) precisamos agrupar algumas desses tipos de uso e ocupação do solo."
   ]
  },
  {
   "cell_type": "code",
   "execution_count": 98,
   "metadata": {
    "colab": {
     "base_uri": "https://localhost:8080/",
     "height": 455
    },
    "executionInfo": {
     "elapsed": 134,
     "status": "ok",
     "timestamp": 1754238321923,
     "user": {
      "displayName": "Bruno Ken Marchezepe",
      "userId": "17691679910735207952"
     },
     "user_tz": 180
    },
    "id": "Shs-fQyBYEBq",
    "outputId": "91f58e94-ee82-436f-d567-b639802f6a63"
   },
   "outputs": [
    {
     "data": {
      "image/png": "[encoded data removed]",
      "text/plain": [
       "<Figure size 640x480 with 1 Axes>"
      ]
     },
     "metadata": {},
     "output_type": "display_data"
    }
   ],
   "source": [
    "CN = 84.86\n",
    "#Transformando o dataframe em array\n",
    "P = dfs[bacia]['p'].tolist()\n",
    "#Definido o array do escoamento superficial para inserção dos valores\n",
    "Q = np.zeros(12)\n",
    "#Maxima infiltracao acumulada potencial[S] = mm\n",
    "S = 25400/CN - 254\n",
    "#Perdas Inicias (Hipotese de 20% de S)\n",
    "Ia = 0.2*S\n",
    "\n",
    "#For para realizar o calculo para cada mes do ano\n",
    "for j in range (len(P)):\n",
    "  if (P[j]<=Ia):\n",
    "    Q[j] = 0\n",
    "  else:\n",
    "    Q[j] = (P[j]-Ia)**2/(P[j]-Ia+S)\n",
    "\n",
    "#Plotagem\n",
    "plt.bar(meses, Q, color=\"green\")\n",
    "plt.ylim([0.0, 300])\n",
    "plt.xlabel('Meses')\n",
    "plt.ylabel('Escoamento superficial (mm)')\n",
    "plt.show()"
   ]
  },
  {
   "cell_type": "markdown",
   "metadata": {
    "id": "wt4UizXLYIZJ"
   },
   "source": [
    "##7. Demanda"
   ]
  },
  {
   "cell_type": "code",
   "execution_count": null,
   "metadata": {
    "colab": {
     "base_uri": "https://localhost:8080/",
     "height": 454
    },
    "collapsed": true,
    "executionInfo": {
     "elapsed": 525,
     "status": "ok",
     "timestamp": 1754238462038,
     "user": {
      "displayName": "Bruno Ken Marchezepe",
      "userId": "17691679910735207952"
     },
     "user_tz": 180
    },
    "id": "vlwlDqxiobbL",
    "outputId": "0c6875e7-37d5-4877-bdc7-856678bfbde8"
   },
   "outputs": [
    {
     "data": {
      "image/png": "[encoded data removed]",
      "text/plain": [
       "<Figure size 640x480 with 1 Axes>"
      ]
     },
     "metadata": {},
     "output_type": "display_data"
    }
   ],
   "source": [
    "#Importação da área da bacia\n",
    "url = \"https://raw.githubusercontent.com/hydrologywatersecurity/livro-python-hidrologia/refs/heads/main/CABRA_dataset/CABra_attributes/CABra_topography_attributes.txt\"\n",
    "r = requests.get(url).content\n",
    "df_topo = pd.read_csv(io.StringIO(r.decode('utf-8', errors='ignore')), skiprows=8, delimiter='\\t')\n",
    "\n",
    "#Exclui linha 0 pois não faz parte dos dados\n",
    "df_topo = df_topo.drop([0], axis=0)\n",
    "# Nomeando as colunas\n",
    "df_topo.columns = ['CABra ID','ANA ID','catch_area','elev_mean','elev_min','elev_max','elev_gauge','catch_slope','catch_order']\n",
    "# Passando todos os dados para categoria numérica\n",
    "df_topo = df_topo.apply(pd.to_numeric)\n",
    "\n",
    "bacia_int = int(bacia)\n",
    "area_km2 = df_topo.loc[df_topo['CABra ID'] == bacia_int, 'catch_area'].values[0]\n",
    "area_m2 = area_km2 * 1000000\n",
    "\n",
    "dias_meses = [31,28,31,30,31,30,31,31,30,31,30,31]\n",
    "consumo_litros_mes = np.zeros(12)\n",
    "demanda_mm = np.zeros(12)\n",
    "\n",
    "#For para realizar o calculo para cada mes do ano, considerando 100.000 habitantes que consomem 150 litros por dia cada\n",
    "for j in range (len(dias_meses)):\n",
    "  consumo_litros_mes[j] = 150 * 100000 * dias_meses[j]\n",
    "  demanda_mm[j] = consumo_litros_mes[j] / area_m2\n",
    "\n",
    "#Plotagem\n",
    "plt.bar(meses, demanda_mm, color=\"yellow\")\n",
    "plt.xlabel('Meses')\n",
    "plt.ylabel('Demanda (mm)')\n",
    "plt.show()"
   ]
  },
  {
   "cell_type": "markdown",
   "metadata": {
    "id": "39bT5sh7YOxF"
   },
   "source": [
    "##8. Balanço Hídrico"
   ]
  },
  {
   "cell_type": "markdown",
   "metadata": {
    "id": "oC01-QJBtFYN"
   },
   "source": [
    "Agora vamos calcular o Balanço Hídrico mensalmente. Para isso, vamos somar todas as entradas (precipitação) e saídas (escoamento superficial, evapotranspiração real e demanda de consumo) da bacia calculadas anteriormente pelas médias mensais."
   ]
  },
  {
   "cell_type": "code",
   "execution_count": 94,
   "metadata": {
    "colab": {
     "base_uri": "https://localhost:8080/",
     "height": 425
    },
    "executionInfo": {
     "elapsed": 42,
     "status": "ok",
     "timestamp": 1754238185373,
     "user": {
      "displayName": "Bruno Ken Marchezepe",
      "userId": "17691679910735207952"
     },
     "user_tz": 180
    },
    "id": "oeEE1MH-ex7k",
    "outputId": "9a6302b1-c532-46fc-a0d6-2ca90867abd0"
   },
   "outputs": [
    {
     "data": {
      "application/vnd.google.colaboratory.intrinsic+json": {
       "summary": "{\n  \"name\": \"bh_df\",\n  \"rows\": 12,\n  \"fields\": [\n    {\n      \"column\": \"balanco_hidrico\",\n      \"properties\": {\n        \"dtype\": \"number\",\n        \"std\": 12.249851367795141,\n        \"min\": -64.5092377330224,\n        \"max\": -23.88862825244541,\n        \"num_unique_values\": 12,\n        \"samples\": [\n          -54.50713447512049,\n          -48.27481983455828,\n          -62.18227695055237\n        ],\n        \"semantic_type\": \"\",\n        \"description\": \"\"\n      }\n    },\n    {\n      \"column\": \"mes\",\n      \"properties\": {\n        \"dtype\": \"string\",\n        \"num_unique_values\": 12,\n        \"samples\": [\n          \"Nov\",\n          \"Out\",\n          \"Jan\"\n        ],\n        \"semantic_type\": \"\",\n        \"description\": \"\"\n      }\n    },\n    {\n      \"column\": \"verificacao\",\n      \"properties\": {\n        \"dtype\": \"category\",\n        \"num_unique_values\": 1,\n        \"samples\": [\n          \"D\\u00e9ficit\"\n        ],\n        \"semantic_type\": \"\",\n        \"description\": \"\"\n      }\n    }\n  ]\n}",
       "type": "dataframe",
       "variable_name": "bh_df"
      },
      "text/html": [
       "\n",
       "  <div id=\"df-1f18baa5-ef6d-4fa8-920c-e54701fa4d85\" class=\"colab-df-container\">\n",
       "    <div>\n",
       "<style scoped>\n",
       "    .dataframe tbody tr th:only-of-type {\n",
       "        vertical-align: middle;\n",
       "    }\n",
       "\n",
       "    .dataframe tbody tr th {\n",
       "        vertical-align: top;\n",
       "    }\n",
       "\n",
       "    .dataframe thead th {\n",
       "        text-align: right;\n",
       "    }\n",
       "</style>\n",
       "<table border=\"1\" class=\"dataframe\">\n",
       "  <thead>\n",
       "    <tr style=\"text-align: right;\">\n",
       "      <th></th>\n",
       "      <th>balanco_hidrico</th>\n",
       "      <th>mes</th>\n",
       "      <th>verificacao</th>\n",
       "    </tr>\n",
       "  </thead>\n",
       "  <tbody>\n",
       "    <tr>\n",
       "      <th>0</th>\n",
       "      <td>-62.182277</td>\n",
       "      <td>Jan</td>\n",
       "      <td>Déficit</td>\n",
       "    </tr>\n",
       "    <tr>\n",
       "      <th>1</th>\n",
       "      <td>-57.431439</td>\n",
       "      <td>Fev</td>\n",
       "      <td>Déficit</td>\n",
       "    </tr>\n",
       "    <tr>\n",
       "      <th>2</th>\n",
       "      <td>-64.509238</td>\n",
       "      <td>Mar</td>\n",
       "      <td>Déficit</td>\n",
       "    </tr>\n",
       "    <tr>\n",
       "      <th>3</th>\n",
       "      <td>-58.730723</td>\n",
       "      <td>Abr</td>\n",
       "      <td>Déficit</td>\n",
       "    </tr>\n",
       "    <tr>\n",
       "      <th>4</th>\n",
       "      <td>-58.110997</td>\n",
       "      <td>Mai</td>\n",
       "      <td>Déficit</td>\n",
       "    </tr>\n",
       "    <tr>\n",
       "      <th>5</th>\n",
       "      <td>-52.720172</td>\n",
       "      <td>Jun</td>\n",
       "      <td>Déficit</td>\n",
       "    </tr>\n",
       "    <tr>\n",
       "      <th>6</th>\n",
       "      <td>-44.849410</td>\n",
       "      <td>Jul</td>\n",
       "      <td>Déficit</td>\n",
       "    </tr>\n",
       "    <tr>\n",
       "      <th>7</th>\n",
       "      <td>-32.269631</td>\n",
       "      <td>Ago</td>\n",
       "      <td>Déficit</td>\n",
       "    </tr>\n",
       "    <tr>\n",
       "      <th>8</th>\n",
       "      <td>-23.888628</td>\n",
       "      <td>Set</td>\n",
       "      <td>Déficit</td>\n",
       "    </tr>\n",
       "    <tr>\n",
       "      <th>9</th>\n",
       "      <td>-48.274820</td>\n",
       "      <td>Out</td>\n",
       "      <td>Déficit</td>\n",
       "    </tr>\n",
       "    <tr>\n",
       "      <th>10</th>\n",
       "      <td>-54.507134</td>\n",
       "      <td>Nov</td>\n",
       "      <td>Déficit</td>\n",
       "    </tr>\n",
       "    <tr>\n",
       "      <th>11</th>\n",
       "      <td>-57.776661</td>\n",
       "      <td>Dez</td>\n",
       "      <td>Déficit</td>\n",
       "    </tr>\n",
       "  </tbody>\n",
       "</table>\n",
       "</div>\n",
       "    <div class=\"colab-df-buttons\">\n",
       "\n",
       "  <div class=\"colab-df-container\">\n",
       "    <button class=\"colab-df-convert\" onclick=\"convertToInteractive('df-1f18baa5-ef6d-4fa8-920c-e54701fa4d85')\"\n",
       "            title=\"Convert this dataframe to an interactive table.\"\n",
       "            style=\"display:none;\">\n",
       "\n",
       "  <svg xmlns=\"http://www.w3.org/2000/svg\" height=\"24px\" viewBox=\"0 -960 960 960\">\n",
       "    <path d=\"M120-120v-720h720v720H120Zm60-500h600v-160H180v160Zm220 220h160v-160H400v160Zm0 220h160v-160H400v160ZM180-400h160v-160H180v160Zm440 0h160v-160H620v160ZM180-180h160v-160H180v160Zm440 0h160v-160H620v160Z\"/>\n",
       "  </svg>\n",
       "    </button>\n",
       "\n",
       "  <style>\n",
       "    .colab-df-container {\n",
       "      display:flex;\n",
       "      gap: 12px;\n",
       "    }\n",
       "\n",
       "    .colab-df-convert {\n",
       "      background-color: #E8F0FE;\n",
       "      border: none;\n",
       "      border-radius: 50%;\n",
       "      cursor: pointer;\n",
       "      display: none;\n",
       "      fill: #1967D2;\n",
       "      height: 32px;\n",
       "      padding: 0 0 0 0;\n",
       "      width: 32px;\n",
       "    }\n",
       "\n",
       "    .colab-df-convert:hover {\n",
       "      background-color: #E2EBFA;\n",
       "      box-shadow: 0px 1px 2px rgba(60, 64, 67, 0.3), 0px 1px 3px 1px rgba(60, 64, 67, 0.15);\n",
       "      fill: #174EA6;\n",
       "    }\n",
       "\n",
       "    .colab-df-buttons div {\n",
       "      margin-bottom: 4px;\n",
       "    }\n",
       "\n",
       "    [theme=dark] .colab-df-convert {\n",
       "      background-color: #3B4455;\n",
       "      fill: #D2E3FC;\n",
       "    }\n",
       "\n",
       "    [theme=dark] .colab-df-convert:hover {\n",
       "      background-color: #434B5C;\n",
       "      box-shadow: 0px 1px 3px 1px rgba(0, 0, 0, 0.15);\n",
       "      filter: drop-shadow(0px 1px 2px rgba(0, 0, 0, 0.3));\n",
       "      fill: #FFFFFF;\n",
       "    }\n",
       "  </style>\n",
       "\n",
       "    <script>\n",
       "      const buttonEl =\n",
       "        document.querySelector('#df-1f18baa5-ef6d-4fa8-920c-e54701fa4d85 button.colab-df-convert');\n",
       "      buttonEl.style.display =\n",
       "        google.colab.kernel.accessAllowed ? 'block' : 'none';\n",
       "\n",
       "      async function convertToInteractive(key) {\n",
       "        const element = document.querySelector('#df-1f18baa5-ef6d-4fa8-920c-e54701fa4d85');\n",
       "        const dataTable =\n",
       "          await google.colab.kernel.invokeFunction('convertToInteractive',\n",
       "                                                    [key], {});\n",
       "        if (!dataTable) return;\n",
       "\n",
       "        const docLinkHtml = 'Like what you see? Visit the ' +\n",
       "          '<a target=\"_blank\" href=https://colab.research.google.com/notebooks/data_table.ipynb>data table notebook</a>'\n",
       "          + ' to learn more about interactive tables.';\n",
       "        element.innerHTML = '';\n",
       "        dataTable['output_type'] = 'display_data';\n",
       "        await google.colab.output.renderOutput(dataTable, element);\n",
       "        const docLink = document.createElement('div');\n",
       "        docLink.innerHTML = docLinkHtml;\n",
       "        element.appendChild(docLink);\n",
       "      }\n",
       "    </script>\n",
       "  </div>\n",
       "\n",
       "\n",
       "    <div id=\"df-66332681-2490-407d-b74c-934691fd020c\">\n",
       "      <button class=\"colab-df-quickchart\" onclick=\"quickchart('df-66332681-2490-407d-b74c-934691fd020c')\"\n",
       "                title=\"Suggest charts\"\n",
       "                style=\"display:none;\">\n",
       "\n",
       "<svg xmlns=\"http://www.w3.org/2000/svg\" height=\"24px\"viewBox=\"0 0 24 24\"\n",
       "     width=\"24px\">\n",
       "    <g>\n",
       "        <path d=\"M19 3H5c-1.1 0-2 .9-2 2v14c0 1.1.9 2 2 2h14c1.1 0 2-.9 2-2V5c0-1.1-.9-2-2-2zM9 17H7v-7h2v7zm4 0h-2V7h2v10zm4 0h-2v-4h2v4z\"/>\n",
       "    </g>\n",
       "</svg>\n",
       "      </button>\n",
       "\n",
       "<style>\n",
       "  .colab-df-quickchart {\n",
       "      --bg-color: #E8F0FE;\n",
       "      --fill-color: #1967D2;\n",
       "      --hover-bg-color: #E2EBFA;\n",
       "      --hover-fill-color: #174EA6;\n",
       "      --disabled-fill-color: #AAA;\n",
       "      --disabled-bg-color: #DDD;\n",
       "  }\n",
       "\n",
       "  [theme=dark] .colab-df-quickchart {\n",
       "      --bg-color: #3B4455;\n",
       "      --fill-color: #D2E3FC;\n",
       "      --hover-bg-color: #434B5C;\n",
       "      --hover-fill-color: #FFFFFF;\n",
       "      --disabled-bg-color: #3B4455;\n",
       "      --disabled-fill-color: #666;\n",
       "  }\n",
       "\n",
       "  .colab-df-quickchart {\n",
       "    background-color: var(--bg-color);\n",
       "    border: none;\n",
       "    border-radius: 50%;\n",
       "    cursor: pointer;\n",
       "    display: none;\n",
       "    fill: var(--fill-color);\n",
       "    height: 32px;\n",
       "    padding: 0;\n",
       "    width: 32px;\n",
       "  }\n",
       "\n",
       "  .colab-df-quickchart:hover {\n",
       "    background-color: var(--hover-bg-color);\n",
       "    box-shadow: 0 1px 2px rgba(60, 64, 67, 0.3), 0 1px 3px 1px rgba(60, 64, 67, 0.15);\n",
       "    fill: var(--button-hover-fill-color);\n",
       "  }\n",
       "\n",
       "  .colab-df-quickchart-complete:disabled,\n",
       "  .colab-df-quickchart-complete:disabled:hover {\n",
       "    background-color: var(--disabled-bg-color);\n",
       "    fill: var(--disabled-fill-color);\n",
       "    box-shadow: none;\n",
       "  }\n",
       "\n",
       "  .colab-df-spinner {\n",
       "    border: 2px solid var(--fill-color);\n",
       "    border-color: transparent;\n",
       "    border-bottom-color: var(--fill-color);\n",
       "    animation:\n",
       "      spin 1s steps(1) infinite;\n",
       "  }\n",
       "\n",
       "  @keyframes spin {\n",
       "    0% {\n",
       "      border-color: transparent;\n",
       "      border-bottom-color: var(--fill-color);\n",
       "      border-left-color: var(--fill-color);\n",
       "    }\n",
       "    20% {\n",
       "      border-color: transparent;\n",
       "      border-left-color: var(--fill-color);\n",
       "      border-top-color: var(--fill-color);\n",
       "    }\n",
       "    30% {\n",
       "      border-color: transparent;\n",
       "      border-left-color: var(--fill-color);\n",
       "      border-top-color: var(--fill-color);\n",
       "      border-right-color: var(--fill-color);\n",
       "    }\n",
       "    40% {\n",
       "      border-color: transparent;\n",
       "      border-right-color: var(--fill-color);\n",
       "      border-top-color: var(--fill-color);\n",
       "    }\n",
       "    60% {\n",
       "      border-color: transparent;\n",
       "      border-right-color: var(--fill-color);\n",
       "    }\n",
       "    80% {\n",
       "      border-color: transparent;\n",
       "      border-right-color: var(--fill-color);\n",
       "      border-bottom-color: var(--fill-color);\n",
       "    }\n",
       "    90% {\n",
       "      border-color: transparent;\n",
       "      border-bottom-color: var(--fill-color);\n",
       "    }\n",
       "  }\n",
       "</style>\n",
       "\n",
       "      <script>\n",
       "        async function quickchart(key) {\n",
       "          const quickchartButtonEl =\n",
       "            document.querySelector('#' + key + ' button');\n",
       "          quickchartButtonEl.disabled = true;  // To prevent multiple clicks.\n",
       "          quickchartButtonEl.classList.add('colab-df-spinner');\n",
       "          try {\n",
       "            const charts = await google.colab.kernel.invokeFunction(\n",
       "                'suggestCharts', [key], {});\n",
       "          } catch (error) {\n",
       "            console.error('Error during call to suggestCharts:', error);\n",
       "          }\n",
       "          quickchartButtonEl.classList.remove('colab-df-spinner');\n",
       "          quickchartButtonEl.classList.add('colab-df-quickchart-complete');\n",
       "        }\n",
       "        (() => {\n",
       "          let quickchartButtonEl =\n",
       "            document.querySelector('#df-66332681-2490-407d-b74c-934691fd020c button');\n",
       "          quickchartButtonEl.style.display =\n",
       "            google.colab.kernel.accessAllowed ? 'block' : 'none';\n",
       "        })();\n",
       "      </script>\n",
       "    </div>\n",
       "\n",
       "  <div id=\"id_84da507c-0963-4644-b1aa-82d7c822778d\">\n",
       "    <style>\n",
       "      .colab-df-generate {\n",
       "        background-color: #E8F0FE;\n",
       "        border: none;\n",
       "        border-radius: 50%;\n",
       "        cursor: pointer;\n",
       "        display: none;\n",
       "        fill: #1967D2;\n",
       "        height: 32px;\n",
       "        padding: 0 0 0 0;\n",
       "        width: 32px;\n",
       "      }\n",
       "\n",
       "      .colab-df-generate:hover {\n",
       "        background-color: #E2EBFA;\n",
       "        box-shadow: 0px 1px 2px rgba(60, 64, 67, 0.3), 0px 1px 3px 1px rgba(60, 64, 67, 0.15);\n",
       "        fill: #174EA6;\n",
       "      }\n",
       "\n",
       "      [theme=dark] .colab-df-generate {\n",
       "        background-color: #3B4455;\n",
       "        fill: #D2E3FC;\n",
       "      }\n",
       "\n",
       "      [theme=dark] .colab-df-generate:hover {\n",
       "        background-color: #434B5C;\n",
       "        box-shadow: 0px 1px 3px 1px rgba(0, 0, 0, 0.15);\n",
       "        filter: drop-shadow(0px 1px 2px rgba(0, 0, 0, 0.3));\n",
       "        fill: #FFFFFF;\n",
       "      }\n",
       "    </style>\n",
       "    <button class=\"colab-df-generate\" onclick=\"generateWithVariable('bh_df')\"\n",
       "            title=\"Generate code using this dataframe.\"\n",
       "            style=\"display:none;\">\n",
       "\n",
       "  <svg xmlns=\"http://www.w3.org/2000/svg\" height=\"24px\"viewBox=\"0 0 24 24\"\n",
       "       width=\"24px\">\n",
       "    <path d=\"M7,19H8.4L18.45,9,17,7.55,7,17.6ZM5,21V16.75L18.45,3.32a2,2,0,0,1,2.83,0l1.4,1.43a1.91,1.91,0,0,1,.58,1.4,1.91,1.91,0,0,1-.58,1.4L9.25,21ZM18.45,9,17,7.55Zm-12,3A5.31,5.31,0,0,0,4.9,8.1,5.31,5.31,0,0,0,1,6.5,5.31,5.31,0,0,0,4.9,4.9,5.31,5.31,0,0,0,6.5,1,5.31,5.31,0,0,0,8.1,4.9,5.31,5.31,0,0,0,12,6.5,5.46,5.46,0,0,0,6.5,12Z\"/>\n",
       "  </svg>\n",
       "    </button>\n",
       "    <script>\n",
       "      (() => {\n",
       "      const buttonEl =\n",
       "        document.querySelector('#id_84da507c-0963-4644-b1aa-82d7c822778d button.colab-df-generate');\n",
       "      buttonEl.style.display =\n",
       "        google.colab.kernel.accessAllowed ? 'block' : 'none';\n",
       "\n",
       "      buttonEl.onclick = () => {\n",
       "        google.colab.notebook.generateWithVariable('bh_df');\n",
       "      }\n",
       "      })();\n",
       "    </script>\n",
       "  </div>\n",
       "\n",
       "    </div>\n",
       "  </div>\n"
      ],
      "text/plain": [
       "    balanco_hidrico  mes verificacao\n",
       "0        -62.182277  Jan     Déficit\n",
       "1        -57.431439  Fev     Déficit\n",
       "2        -64.509238  Mar     Déficit\n",
       "3        -58.730723  Abr     Déficit\n",
       "4        -58.110997  Mai     Déficit\n",
       "5        -52.720172  Jun     Déficit\n",
       "6        -44.849410  Jul     Déficit\n",
       "7        -32.269631  Ago     Déficit\n",
       "8        -23.888628  Set     Déficit\n",
       "9        -48.274820  Out     Déficit\n",
       "10       -54.507134  Nov     Déficit\n",
       "11       -57.776661  Dez     Déficit"
      ]
     },
     "execution_count": 94,
     "metadata": {},
     "output_type": "execute_result"
    }
   ],
   "source": [
    "# Calculo do Balanço Hídrico\n",
    "bh = dfs[bacia]['p'] - dfs[bacia]['et'] - Q - demanda_mm\n",
    "\n",
    "# Adicionar coluna de meses e verificação baseado no valor resultante de cada mês\n",
    "bh_df = pd.DataFrame({'balanco_hidrico': bh})\n",
    "bh_df['mes'] = meses\n",
    "bh_df['verificacao'] = bh_df['balanco_hidrico'].apply(lambda x: 'Excesso' if x >= 0 else 'Déficit')\n",
    "bh_df"
   ]
  },
  {
   "cell_type": "code",
   "execution_count": 95,
   "metadata": {
    "colab": {
     "base_uri": "https://localhost:8080/",
     "height": 455
    },
    "executionInfo": {
     "elapsed": 143,
     "status": "ok",
     "timestamp": 1754238188161,
     "user": {
      "displayName": "Bruno Ken Marchezepe",
      "userId": "17691679910735207952"
     },
     "user_tz": 180
    },
    "id": "XN2mH-yzudQE",
    "outputId": "aa390d19-1889-478f-b21c-ae50df57ddc2"
   },
   "outputs": [
    {
     "data": {
      "image/png": "[encoded data removed]",
      "text/plain": [
       "<Figure size 640x480 with 1 Axes>"
      ]
     },
     "metadata": {},
     "output_type": "display_data"
    }
   ],
   "source": [
    "#Plotagem\n",
    "plt.bar(meses, bh, color=\"orange\")\n",
    "plt.xlabel('Meses')\n",
    "plt.ylabel('Balanço Hídrico (mm)')\n",
    "plt.show()"
   ]
  }
 ],
 "metadata": {
  "colab": {
   "provenance": []
  },
  "kernelspec": {
   "display_name": "Python 3",
   "name": "python3"
  },
  "language_info": {
   "name": "python"
  }
 },
 "nbformat": 4,
 "nbformat_minor": 0
}
