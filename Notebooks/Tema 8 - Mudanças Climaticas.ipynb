{
 "cells": [
  {
   "cell_type": "markdown",
   "metadata": {
    "id": "7f7Wmjq7MnNy"
   },
   "source": [
    "# Exercício em Python - Tema 8 - Mudanças Climáticas"
   ]
  },
  {
   "cell_type": "markdown",
   "metadata": {
    "id": "lEhOkWBAMnHp"
   },
   "source": [
    "O objetivo deste exercício é comparar as séries observadas com os sinais projetados por modelos CMIP5/CMIP6."
   ]
  },
  {
   "cell_type": "markdown",
   "metadata": {
    "id": "xBxPeynmnV_8"
   },
   "source": [
    "## 1.Importação de Bibliotecas"
   ]
  },
  {
   "cell_type": "code",
   "execution_count": 3,
   "metadata": {},
   "outputs": [],
   "source": [
    "import pandas as pd\n",
    "import matplotlib.pyplot as plt\n",
    "import matplotlib.dates as mdates\n",
    "import requests, io"
   ]
  },
  {
   "cell_type": "code",
   "execution_count": null,
   "metadata": {
    "id": "0FCatBPEOeEW"
   },
   "outputs": [],
   "source": [
    "'''import pandas as pd\n",
    "import numpy as np\n",
    "import matplotlib.pyplot as plt\n",
    "import requests, io\n",
    "from sklearn.linear_model import LinearRegression\n",
    "from scipy.stats import linregress\n",
    "import seaborn as sns'''"
   ]
  },
  {
   "cell_type": "markdown",
   "metadata": {
    "id": "goMhaPLfOvoI"
   },
   "source": [
    "## 2. Importação da Base de Dados"
   ]
  },
  {
   "cell_type": "code",
   "execution_count": 31,
   "metadata": {},
   "outputs": [
    {
     "name": "stdout",
     "output_type": "stream",
     "text": [
      "Arquivo hist importado com sucesso. Dimensões: (0, 1)\n",
      "Arquivo ssp245 importado com sucesso. Dimensões: (0, 1)\n",
      "Arquivo ssp585 importado com sucesso. Dimensões: (0, 1)\n"
     ]
    }
   ],
   "source": [
    "modelList = ['ACCESS-CM2','ACCESS-ESM1-5','CMCC-ESM2','EC-EARTH3',\n",
    "             'GFDL-CM4','GFDL-ESM4','HadGEM3-GC31-LL','INM-CM4_8',\n",
    "             'INM-CM5','IPSL-CM6A-LR','KACE','KIOST','MIROC6','MPI-ESM1-2',\n",
    "             'MRI-ESM2','NESM3','NorESM2-MM','TaiESM1','UKESM1-0-LL']\n",
    "\n",
    "scenList = ['hist','ssp245','ssp585']\n",
    "# Importa base de dados para cada cenário\n",
    "for scen in scenList:\n",
    "    # Monta a URL do arquivo já consolidado para o cenário\n",
    "    url = f\"https://raw.githubusercontent.com/hydrologywatersecurity/livro-python-hidrologia/refs/heads/main/CLIMBra_dataset_1/pr-CABra1-{scen}.csv\"\n",
    "    \n",
    "    # Faz o download do arquivo\n",
    "    r = requests.get(url).content\n",
    "    \n",
    "    # Lê em dataframe\n",
    "    df = pd.read_csv(io.StringIO(r.decode('utf-8')))\n",
    "    \n",
    "    # Salva localmente (se quiser)\n",
    "    df.to_csv(f'pr-CABra1-{scen}.csv')\n",
    "    \n",
    "    print(f\"Arquivo {scen} importado com sucesso. Dimensões: {df.shape}\")"
   ]
  },
  {
   "cell_type": "code",
   "execution_count": null,
   "metadata": {},
   "outputs": [],
   "source": [
    "scenList = ['hist','ssp245','ssp585']\n",
    "colorList  = ['gray','darkgoldenrod','firebrick']\n",
    "\n",
    "fig, axes = plt.subplots(figsize = (8,4))\n",
    "\n",
    "for i, scen in enumerate(scenList):\n",
    "    # Lendo arquivo \n",
    "    name = f'pr-CABra1-{scen}.csv'\n",
    "    df = pd.read_csv(name, parse_dates=['time'], index_col='time')\n",
    "    \n",
    "    # Calculando a precipitação total anual\n",
    "    df_sum = df.resample(\"YE\").sum()\n",
    "    \n",
    "    # Calculando estatísticas do ensemble\n",
    "    ensemble_mean = df_sum.mean(axis=1)\n",
    "    ensemble_std  = df_sum.std(axis=1)\n",
    "    \n",
    "    # Plotando ensemble mean\n",
    "    plt.plot(ensemble_mean.index, ensemble_mean.values,  marker = 'o',markersize = 3,\n",
    "             color=colorList[i], linewidth=2)\n",
    "    \n",
    "    # Faixa de incerteza (±1 std)\n",
    "    plt.fill_between(ensemble_mean.index, \n",
    "                     ensemble_mean - ensemble_std, \n",
    "                     ensemble_mean + ensemble_std, \n",
    "                     color=colorList[i], alpha=0.2)\n",
    "\n",
    "# Formatação do eixo x (anos)\n",
    "plt.gca().xaxis.set_major_formatter(mdates.DateFormatter(\"%Y\"))\n",
    "\n",
    "plt.xlabel(\"Ano\")\n",
    "plt.ylabel(\"Precipitação total anual (mm)\")\n",
    "# plt.legend()\n",
    "plt.grid(True, linestyle=\"--\", alpha=0.5)\n",
    "plt.tight_layout()\n",
    "plt.show()"
   ]
  },
  {
   "cell_type": "code",
   "execution_count": null,
   "metadata": {
    "id": "UCr0tbZkPsc-"
   },
   "outputs": [],
   "source": [
    "'''# Bacias escolhidas representando diferentes biomas/regionais hidrográficas\n",
    "bacias = ['15', '411', '195', '443', '607']\n",
    "nomes_bacias = {\n",
    "    '15': 'Amazônia',\n",
    "    '411': 'Cerrado',\n",
    "    '195': 'Caatinga',\n",
    "    '443': 'Mata Atlântica',\n",
    "    '607': 'Pampa'\n",
    "}\n",
    "\n",
    "variaveis = {\n",
    "    'tmin': 'Temperatura Mínima (C)',\n",
    "    'tmax': 'Temperatura Máxima (C)',\n",
    "    'p': 'Precipitação (mm)',\n",
    "    'pet_pm': 'Evapotranspiração Potencial (mm)'\n",
    "}\n",
    "\n",
    "# Dicionário para armazenar os DataFrames por bacia\n",
    "dfs = {}'''"
   ]
  },
  {
   "cell_type": "code",
   "execution_count": null,
   "metadata": {
    "id": "bqi-wm7YQqy2"
   },
   "outputs": [],
   "source": [
    "'''# Etapa 1: Importação e agregação anual sem função\n",
    "i = 0\n",
    "for b in bacias:\n",
    "    url = f\"https://raw.githubusercontent.com/hydrologywatersecurity/livro-python-hidrologia/refs/heads/main/CABRA_dataset/CABra_climate_daily_series/ens/CABra_{b}_climate_ENS.txt\"\n",
    "    r = requests.get(url).content\n",
    "    df = pd.read_csv(io.StringIO(r.decode('utf-8', errors='ignore')), skiprows=13, delimiter='\\t')\n",
    "    df.columns = ['Year', 'Month', 'Day', 'p', 'tmin', 'tmax', 'rh', 'wnd', 'srad', 'et', 'pet_pm','pet_pt', 'pet_hg']\n",
    "    #Exclui linha 0 pois não faz parte dos dados\n",
    "    df = df.drop([0], axis=0)\n",
    "    #Passando todos os dados para categoria numérica\n",
    "    df = df.apply(pd.to_numeric)\n",
    "    #Definir coluna de data\n",
    "    df['date'] = pd.to_datetime(df[['Year', 'Month', 'Day']])\n",
    "    df['year'] = df['date'].dt.year\n",
    "    df_ano = df.groupby('year')[['tmin', 'tmax', 'p', 'pet_pm']].mean().reset_index()\n",
    "    dfs[b] = df_ano\n",
    "    i += 1'''"
   ]
  },
  {
   "cell_type": "markdown",
   "metadata": {
    "id": "CLqY3rDeTv-9"
   },
   "source": [
    "##3. Gráfico de comparação das variações climáticas (1980 - 2010)"
   ]
  },
  {
   "cell_type": "code",
   "execution_count": null,
   "metadata": {
    "colab": {
     "base_uri": "https://localhost:8080/",
     "height": 1000
    },
    "executionInfo": {
     "elapsed": 1137,
     "status": "ok",
     "timestamp": 1752620661568,
     "user": {
      "displayName": "Bruno Ken Marchezepe",
      "userId": "17691679910735207952"
     },
     "user_tz": 180
    },
    "id": "H57H3BGnOlx1",
    "outputId": "bf8103c7-b5b3-4f4c-a4fa-7620864a5fb8"
   },
   "outputs": [],
   "source": [
    "'''# Etapa 2: Gráficos de comparação\n",
    "for var, nome_var in variaveis.items():\n",
    "    plt.figure(figsize=(12, 6))\n",
    "    for b in bacias:\n",
    "        df = dfs[b]\n",
    "        # Ensure there are non-null values before plotting\n",
    "        if not df.empty:\n",
    "            plt.plot(df['year'], df[var], label=f\"{nomes_bacias[b]}\", marker='o')\n",
    "    plt.title(f\"{nome_var} Anual nas Bacias CABra (1980–2010)\", fontsize=14)\n",
    "    plt.xlabel('Ano')\n",
    "    plt.ylabel(nome_var)\n",
    "    plt.grid(True)\n",
    "    plt.legend()\n",
    "    plt.tight_layout()\n",
    "    plt.show()'''"
   ]
  },
  {
   "cell_type": "markdown",
   "metadata": {
    "id": "GR-qd3T0UBWs"
   },
   "source": [
    "##4. Gráfico de comparação das variações climáticas com linhas de tendência (1980 - 2010)"
   ]
  },
  {
   "cell_type": "code",
   "execution_count": null,
   "metadata": {
    "colab": {
     "base_uri": "https://localhost:8080/",
     "height": 1000
    },
    "executionInfo": {
     "elapsed": 1460,
     "status": "ok",
     "timestamp": 1752620653035,
     "user": {
      "displayName": "Bruno Ken Marchezepe",
      "userId": "17691679910735207952"
     },
     "user_tz": 180
    },
    "id": "_ANNIuB0OoZk",
    "outputId": "3c3cc9f1-bec6-4d0e-f47f-ce219e1830f9"
   },
   "outputs": [],
   "source": [
    "'''# Etapa 3 (opcional): Adicionar tendência linear\n",
    "for var, nome_var in variaveis.items():\n",
    "    plt.figure(figsize=(12, 6))\n",
    "    for b in bacias:\n",
    "        df = dfs[b]\n",
    "        # Ensure there are enough non-null values for linear regression\n",
    "        if not df.empty and len(df) > 1:\n",
    "            X = df['year'].values.reshape(-1, 1)\n",
    "            y = df[var].values\n",
    "            # Filter out NaN values for linear regression\n",
    "            not_nan_mask = ~np.isnan(y)\n",
    "            X_filtered = X[not_nan_mask]\n",
    "            y_filtered = y[not_nan_mask]\n",
    "\n",
    "            if len(X_filtered) > 1: # Ensure there are at least two points to fit a line\n",
    "                model = LinearRegression().fit(X_filtered, y_filtered)\n",
    "                y_pred = model.predict(X)\n",
    "                plt.plot(df['year'], y, label=f\"{nomes_bacias[b]}\", marker='o', linestyle='-')\n",
    "                plt.plot(df['year'], y_pred, linestyle='--')\n",
    "            else:\n",
    "                plt.plot(df['year'], y, label=f\"{nomes_bacias[b]}\", marker='o', linestyle='-') # Plot without trend if not enough data\n",
    "\n",
    "    plt.title(f\"Tendência de {nome_var} (1980–2010)\", fontsize=14)\n",
    "    plt.xlabel('Ano')\n",
    "    plt.ylabel(nome_var)\n",
    "    plt.grid(True)\n",
    "    plt.legend()\n",
    "    plt.tight_layout()\n",
    "    plt.show()'''"
   ]
  },
  {
   "cell_type": "markdown",
   "metadata": {
    "id": "0S9OOmFzTZ7s"
   },
   "source": [
    "##5. Significância das variações climáticas (1980 - 2010)"
   ]
  },
  {
   "cell_type": "code",
   "execution_count": null,
   "metadata": {
    "colab": {
     "base_uri": "https://localhost:8080/"
    },
    "executionInfo": {
     "elapsed": 73,
     "status": "ok",
     "timestamp": 1752620642909,
     "user": {
      "displayName": "Bruno Ken Marchezepe",
      "userId": "17691679910735207952"
     },
     "user_tz": 180
    },
    "id": "IGA7qt7BSuka",
    "outputId": "e52ab60c-d17e-486d-e0a2-8cf89f43e34a"
   },
   "outputs": [],
   "source": [
    "'''#Cálculo da significância estatística das variações\n",
    "\n",
    "print(\"Significância estatística das tendências (1980–2010):\\n\")\n",
    "\n",
    "for var, nome_var in variaveis.items():\n",
    "    print(f\"Variável: {nome_var}\")\n",
    "    for b in bacias:\n",
    "        df = dfs[b]\n",
    "        x = df['year'].values\n",
    "        y = df[var].values\n",
    "        result = linregress(x, y)\n",
    "        slope = result.slope\n",
    "        p_value = result.pvalue\n",
    "        r2 = result.rvalue**2\n",
    "        sig = \"significativa\" if p_value < 0.05 else \"não significativa\"\n",
    "        print(f\"  - {nomes_bacias[b]}: inclinação = {slope:.3f}, p = {p_value:.3f}, R² = {r2:.2f} → {sig}\")\n",
    "    print()'''"
   ]
  },
  {
   "cell_type": "markdown",
   "metadata": {
    "id": "pgB0qLgcUwO8"
   },
   "source": [
    "##6. Correlação entre tendências de variáveis climáticas (1980 - 2010)"
   ]
  },
  {
   "cell_type": "code",
   "execution_count": null,
   "metadata": {
    "colab": {
     "base_uri": "https://localhost:8080/",
     "height": 1000
    },
    "executionInfo": {
     "elapsed": 4058,
     "status": "ok",
     "timestamp": 1752620702658,
     "user": {
      "displayName": "Bruno Ken Marchezepe",
      "userId": "17691679910735207952"
     },
     "user_tz": 180
    },
    "id": "oT5uXzREUw4C",
    "outputId": "2bcb5187-06eb-4ec2-cad5-ef8569eceebb"
   },
   "outputs": [],
   "source": [
    "'''# Etapa 4: Correlação entre tendências de variáveis climáticas\n",
    "print(\"\\nCorrelação entre variáveis climáticas agregadas (1980–2010):\")\n",
    "\n",
    "for b in bacias:\n",
    "    df = dfs[b].copy()\n",
    "    df_corr = df[['tmin', 'tmax', 'p', 'pet_pm']].corr(method='spearman')\n",
    "    print(f\"\\nMatriz de correlação - {nomes_bacias[b]}:\")\n",
    "    print(df_corr.round(2))\n",
    "    plt.figure(figsize=(6, 4))\n",
    "    sns.heatmap(df_corr, annot=True, vmin=-1, vmax=1)\n",
    "    plt.title(f\"Correlação entre variáveis climáticas - {nomes_bacias[b]}\")\n",
    "    plt.tight_layout()\n",
    "    plt.show()'''"
   ]
  }
 ],
 "metadata": {
  "colab": {
   "provenance": []
  },
  "kernelspec": {
   "display_name": "base",
   "language": "python",
   "name": "python3"
  },
  "language_info": {
   "codemirror_mode": {
    "name": "ipython",
    "version": 3
   },
   "file_extension": ".py",
   "mimetype": "text/x-python",
   "name": "python",
   "nbconvert_exporter": "python",
   "pygments_lexer": "ipython3",
   "version": "3.12.7"
  }
 },
 "nbformat": 4,
 "nbformat_minor": 0
}
